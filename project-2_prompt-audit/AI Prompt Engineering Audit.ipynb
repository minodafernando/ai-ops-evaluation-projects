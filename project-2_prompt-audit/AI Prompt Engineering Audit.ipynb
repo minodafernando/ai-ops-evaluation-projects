{
 "cells": [
  {
   "cell_type": "code",
   "execution_count": 1,
   "id": "00f9e099-fab5-4057-9979-2d4aeece70a9",
   "metadata": {},
   "outputs": [
    {
     "data": {
      "text/plain": [
       "'C:\\\\Users\\\\minod\\\\AI Projects'"
      ]
     },
     "execution_count": 1,
     "metadata": {},
     "output_type": "execute_result"
    }
   ],
   "source": [
    "import os\n",
    "\n",
    "os.getcwd()"
   ]
  },
  {
   "cell_type": "code",
   "execution_count": 2,
   "id": "9ae8fb6d-bf15-4fd2-b341-138c4d909725",
   "metadata": {},
   "outputs": [
    {
     "data": {
      "text/plain": [
       "['.ipynb_checkpoints',\n",
       " '.jupyter',\n",
       " 'Ai Chatbot',\n",
       " 'AI Prompt Engineering',\n",
       " 'Seaborn installation.ipynb']"
      ]
     },
     "execution_count": 2,
     "metadata": {},
     "output_type": "execute_result"
    }
   ],
   "source": [
    "os.listdir()"
   ]
  },
  {
   "cell_type": "code",
   "execution_count": 3,
   "id": "e9f47299-1e45-45a3-a3c9-0ddff3dc369d",
   "metadata": {},
   "outputs": [
    {
     "data": {
      "text/html": [
       "<div>\n",
       "<style scoped>\n",
       "    .dataframe tbody tr th:only-of-type {\n",
       "        vertical-align: middle;\n",
       "    }\n",
       "\n",
       "    .dataframe tbody tr th {\n",
       "        vertical-align: top;\n",
       "    }\n",
       "\n",
       "    .dataframe thead th {\n",
       "        text-align: right;\n",
       "    }\n",
       "</style>\n",
       "<table border=\"1\" class=\"dataframe\">\n",
       "  <thead>\n",
       "    <tr style=\"text-align: right;\">\n",
       "      <th></th>\n",
       "      <th>question</th>\n",
       "      <th>prompt_style</th>\n",
       "      <th>prompt</th>\n",
       "      <th>ai_response</th>\n",
       "      <th>clarity_score</th>\n",
       "      <th>accuracy_score</th>\n",
       "      <th>tone_score</th>\n",
       "    </tr>\n",
       "  </thead>\n",
       "  <tbody>\n",
       "    <tr>\n",
       "      <th>0</th>\n",
       "      <td>Tenant rights in BC</td>\n",
       "      <td>Direct</td>\n",
       "      <td>What are my rights as a tenant in British Colu...</td>\n",
       "      <td>NaN</td>\n",
       "      <td>NaN</td>\n",
       "      <td>NaN</td>\n",
       "      <td>NaN</td>\n",
       "    </tr>\n",
       "    <tr>\n",
       "      <th>1</th>\n",
       "      <td>Tenant rights in BC</td>\n",
       "      <td>Formal</td>\n",
       "      <td>I’m a tenant living in BC. Can you summarize m...</td>\n",
       "      <td>NaN</td>\n",
       "      <td>NaN</td>\n",
       "      <td>NaN</td>\n",
       "      <td>NaN</td>\n",
       "    </tr>\n",
       "    <tr>\n",
       "      <th>2</th>\n",
       "      <td>Tenant rights in BC</td>\n",
       "      <td>Friendly</td>\n",
       "      <td>Hey! I’m renting a place in BC — what kind of ...</td>\n",
       "      <td>NaN</td>\n",
       "      <td>NaN</td>\n",
       "      <td>NaN</td>\n",
       "      <td>NaN</td>\n",
       "    </tr>\n",
       "    <tr>\n",
       "      <th>3</th>\n",
       "      <td>Divorce in Ontario</td>\n",
       "      <td>Direct</td>\n",
       "      <td>How do I file for divorce in Ontario?</td>\n",
       "      <td>NaN</td>\n",
       "      <td>NaN</td>\n",
       "      <td>NaN</td>\n",
       "      <td>NaN</td>\n",
       "    </tr>\n",
       "    <tr>\n",
       "      <th>4</th>\n",
       "      <td>Divorce in Ontario</td>\n",
       "      <td>Formal</td>\n",
       "      <td>I need to file for divorce in Ontario. Can you...</td>\n",
       "      <td>NaN</td>\n",
       "      <td>NaN</td>\n",
       "      <td>NaN</td>\n",
       "      <td>NaN</td>\n",
       "    </tr>\n",
       "  </tbody>\n",
       "</table>\n",
       "</div>"
      ],
      "text/plain": [
       "              question prompt_style  \\\n",
       "0  Tenant rights in BC       Direct   \n",
       "1  Tenant rights in BC       Formal   \n",
       "2  Tenant rights in BC     Friendly   \n",
       "3   Divorce in Ontario       Direct   \n",
       "4   Divorce in Ontario       Formal   \n",
       "\n",
       "                                              prompt  ai_response  \\\n",
       "0  What are my rights as a tenant in British Colu...          NaN   \n",
       "1  I’m a tenant living in BC. Can you summarize m...          NaN   \n",
       "2  Hey! I’m renting a place in BC — what kind of ...          NaN   \n",
       "3              How do I file for divorce in Ontario?          NaN   \n",
       "4  I need to file for divorce in Ontario. Can you...          NaN   \n",
       "\n",
       "   clarity_score  accuracy_score  tone_score  \n",
       "0            NaN             NaN         NaN  \n",
       "1            NaN             NaN         NaN  \n",
       "2            NaN             NaN         NaN  \n",
       "3            NaN             NaN         NaN  \n",
       "4            NaN             NaN         NaN  "
      ]
     },
     "execution_count": 3,
     "metadata": {},
     "output_type": "execute_result"
    }
   ],
   "source": [
    "import pandas as pd\n",
    "\n",
    "# Load csv file & preview data\n",
    "df = pd.read_csv('AI Prompt Engineering/genai_prompt_audit_template.csv')\n",
    "df.head()"
   ]
  },
  {
   "cell_type": "markdown",
   "id": "9ad69a6b-a552-4782-b4dc-70ac2e848137",
   "metadata": {},
   "source": [
    "### Opens a spreadsheet-style editable view\n",
    "pd.options.display.html.table_schema = True\n",
    "pd.options.display.max_rows = None\n",
    "df"
   ]
  },
  {
   "cell_type": "code",
   "execution_count": 4,
   "id": "9a28eebc-9cca-4970-91f7-0cdddc460ddf",
   "metadata": {},
   "outputs": [
    {
     "name": "stdout",
     "output_type": "stream",
     "text": [
      "\n",
      "Prompt #1: What are my rights as a tenant in British Columbia?\n"
     ]
    },
    {
     "name": "stdin",
     "output_type": "stream",
     "text": [
      "Clarity (0-5):  4\n",
      "Accuracy (0-5):  5\n",
      "Tone (0-5):  3\n"
     ]
    },
    {
     "name": "stdout",
     "output_type": "stream",
     "text": [
      "\n",
      "Prompt #2: I’m a tenant living in BC. Can you summarize my legal rights according to provincial law?\n"
     ]
    },
    {
     "name": "stdin",
     "output_type": "stream",
     "text": [
      "Clarity (0-5):  3\n",
      "Accuracy (0-5):  5\n",
      "Tone (0-5):  3\n"
     ]
    },
    {
     "name": "stdout",
     "output_type": "stream",
     "text": [
      "\n",
      "Prompt #3: Hey! I’m renting a place in BC — what kind of legal protections do I have as a tenant?\n"
     ]
    },
    {
     "name": "stdin",
     "output_type": "stream",
     "text": [
      "Clarity (0-5):  5\n",
      "Accuracy (0-5):  5\n",
      "Tone (0-5):  5\n"
     ]
    },
    {
     "name": "stdout",
     "output_type": "stream",
     "text": [
      "\n",
      "Prompt #4: How do I file for divorce in Ontario?\n"
     ]
    },
    {
     "name": "stdin",
     "output_type": "stream",
     "text": [
      "Clarity (0-5):  4\n",
      "Accuracy (0-5):  5\n",
      "Tone (0-5):  3\n"
     ]
    },
    {
     "name": "stdout",
     "output_type": "stream",
     "text": [
      "\n",
      "Prompt #5: I need to file for divorce in Ontario. Can you outline the legal steps required under provincial law?\n"
     ]
    },
    {
     "name": "stdin",
     "output_type": "stream",
     "text": [
      "Clarity (0-5):  5\n",
      "Accuracy (0-5):  4\n",
      "Tone (0-5):  4\n"
     ]
    },
    {
     "name": "stdout",
     "output_type": "stream",
     "text": [
      "\n",
      "Prompt #6: Hi, I live in Ontario and I’m thinking about getting divorced. What should I do first?\n"
     ]
    },
    {
     "name": "stdin",
     "output_type": "stream",
     "text": [
      "Clarity (0-5):  5\n",
      "Accuracy (0-5):  4\n",
      "Tone (0-5):  5\n"
     ]
    },
    {
     "name": "stdout",
     "output_type": "stream",
     "text": [
      "\n",
      "Prompt #7: How long do I have to pay an invoice after legal services?\n"
     ]
    },
    {
     "name": "stdin",
     "output_type": "stream",
     "text": [
      "Clarity (0-5):  3\n",
      "Accuracy (0-5):  5\n",
      "Tone (0-5):  4\n"
     ]
    },
    {
     "name": "stdout",
     "output_type": "stream",
     "text": [
      "\n",
      "Prompt #8: What are the legal rules in Canada for paying invoices after receiving services from a law firm?\n"
     ]
    },
    {
     "name": "stdin",
     "output_type": "stream",
     "text": [
      "Clarity (0-5):  4\n",
      "Accuracy (0-5):  5\n",
      "Tone (0-5):  4\n"
     ]
    },
    {
     "name": "stdout",
     "output_type": "stream",
     "text": [
      "\n",
      "Prompt #9: I just got billed by my lawyer. Is there a deadline for when I need to pay?\n"
     ]
    },
    {
     "name": "stdin",
     "output_type": "stream",
     "text": [
      "Clarity (0-5):  5\n",
      "Accuracy (0-5):  4\n",
      "Tone (0-5):  5\n"
     ]
    }
   ],
   "source": [
    "# Add scores manually\n",
    "for i in range(len(df)):\n",
    "    print(f\"\\nPrompt #{i+1}: {df.loc[i, 'prompt']}\")\n",
    "    clarity = input(\"Clarity (0-5): \")\n",
    "    accuracy = input(\"Accuracy (0-5): \")\n",
    "    tone = input(\"Tone (0-5): \")\n",
    "\n",
    "    df.loc[i, 'clarity_score'] = int(clarity)\n",
    "    df.loc[i, 'accuracy_score'] = int(accuracy)\n",
    "    df.loc[i, 'tone_score'] = int(tone)"
   ]
  },
  {
   "cell_type": "code",
   "execution_count": 5,
   "id": "63910da4-e049-4cf5-8690-1b5fe71dd78e",
   "metadata": {},
   "outputs": [
    {
     "data": {
      "text/html": [
       "<div>\n",
       "<style scoped>\n",
       "    .dataframe tbody tr th:only-of-type {\n",
       "        vertical-align: middle;\n",
       "    }\n",
       "\n",
       "    .dataframe tbody tr th {\n",
       "        vertical-align: top;\n",
       "    }\n",
       "\n",
       "    .dataframe thead th {\n",
       "        text-align: right;\n",
       "    }\n",
       "</style>\n",
       "<table border=\"1\" class=\"dataframe\">\n",
       "  <thead>\n",
       "    <tr style=\"text-align: right;\">\n",
       "      <th></th>\n",
       "      <th>question</th>\n",
       "      <th>prompt_style</th>\n",
       "      <th>prompt</th>\n",
       "      <th>ai_response</th>\n",
       "      <th>clarity_score</th>\n",
       "      <th>accuracy_score</th>\n",
       "      <th>tone_score</th>\n",
       "    </tr>\n",
       "  </thead>\n",
       "  <tbody>\n",
       "    <tr>\n",
       "      <th>0</th>\n",
       "      <td>Tenant rights in BC</td>\n",
       "      <td>Direct</td>\n",
       "      <td>What are my rights as a tenant in British Colu...</td>\n",
       "      <td>NaN</td>\n",
       "      <td>4.0</td>\n",
       "      <td>5.0</td>\n",
       "      <td>3.0</td>\n",
       "    </tr>\n",
       "    <tr>\n",
       "      <th>1</th>\n",
       "      <td>Tenant rights in BC</td>\n",
       "      <td>Formal</td>\n",
       "      <td>I’m a tenant living in BC. Can you summarize m...</td>\n",
       "      <td>NaN</td>\n",
       "      <td>3.0</td>\n",
       "      <td>5.0</td>\n",
       "      <td>3.0</td>\n",
       "    </tr>\n",
       "    <tr>\n",
       "      <th>2</th>\n",
       "      <td>Tenant rights in BC</td>\n",
       "      <td>Friendly</td>\n",
       "      <td>Hey! I’m renting a place in BC — what kind of ...</td>\n",
       "      <td>NaN</td>\n",
       "      <td>5.0</td>\n",
       "      <td>5.0</td>\n",
       "      <td>5.0</td>\n",
       "    </tr>\n",
       "    <tr>\n",
       "      <th>3</th>\n",
       "      <td>Divorce in Ontario</td>\n",
       "      <td>Direct</td>\n",
       "      <td>How do I file for divorce in Ontario?</td>\n",
       "      <td>NaN</td>\n",
       "      <td>4.0</td>\n",
       "      <td>5.0</td>\n",
       "      <td>3.0</td>\n",
       "    </tr>\n",
       "    <tr>\n",
       "      <th>4</th>\n",
       "      <td>Divorce in Ontario</td>\n",
       "      <td>Formal</td>\n",
       "      <td>I need to file for divorce in Ontario. Can you...</td>\n",
       "      <td>NaN</td>\n",
       "      <td>5.0</td>\n",
       "      <td>4.0</td>\n",
       "      <td>4.0</td>\n",
       "    </tr>\n",
       "  </tbody>\n",
       "</table>\n",
       "</div>"
      ],
      "text/plain": [
       "              question prompt_style  \\\n",
       "0  Tenant rights in BC       Direct   \n",
       "1  Tenant rights in BC       Formal   \n",
       "2  Tenant rights in BC     Friendly   \n",
       "3   Divorce in Ontario       Direct   \n",
       "4   Divorce in Ontario       Formal   \n",
       "\n",
       "                                              prompt  ai_response  \\\n",
       "0  What are my rights as a tenant in British Colu...          NaN   \n",
       "1  I’m a tenant living in BC. Can you summarize m...          NaN   \n",
       "2  Hey! I’m renting a place in BC — what kind of ...          NaN   \n",
       "3              How do I file for divorce in Ontario?          NaN   \n",
       "4  I need to file for divorce in Ontario. Can you...          NaN   \n",
       "\n",
       "   clarity_score  accuracy_score  tone_score  \n",
       "0            4.0             5.0         3.0  \n",
       "1            3.0             5.0         3.0  \n",
       "2            5.0             5.0         5.0  \n",
       "3            4.0             5.0         3.0  \n",
       "4            5.0             4.0         4.0  "
      ]
     },
     "execution_count": 5,
     "metadata": {},
     "output_type": "execute_result"
    }
   ],
   "source": [
    "df.head()"
   ]
  },
  {
   "cell_type": "code",
   "execution_count": 12,
   "id": "b5b75ad9-c6f8-455e-93ba-ab06c55d8bcc",
   "metadata": {},
   "outputs": [],
   "source": [
    "score_cols = ['clarity_score', 'accuracy_score', 'tone_score']\n",
    "\n",
    "# Grouped averages\n",
    "\n",
    "style_avg = df.groupby('prompt_style')[score_cols].mean().round(2)\n"
   ]
  },
  {
   "cell_type": "code",
   "execution_count": 17,
   "id": "6d07accf-7b8e-44cb-94f2-801d1e4068a5",
   "metadata": {},
   "outputs": [
    {
     "name": "stdout",
     "output_type": "stream",
     "text": [
      "Grouped Averages:\n",
      "               clarity_score  accuracy_score  tone_score\n",
      "prompt_style                                           \n",
      "Direct                 3.67            5.00        3.33\n",
      "Formal                 4.00            4.67        3.67\n",
      "Friendly               5.00            4.33        5.00\n"
     ]
    }
   ],
   "source": [
    "# Print averages\n",
    "\n",
    "print(\"Grouped Averages:\\n\", style_avg)"
   ]
  },
  {
   "cell_type": "code",
   "execution_count": 60,
   "id": "3de6ca04-e8e9-4882-ab38-fdb01c31273f",
   "metadata": {},
   "outputs": [
    {
     "data": {
      "image/png": "[encoded data removed]",
      "text/plain": [
       "<Figure size 1000x600 with 1 Axes>"
      ]
     },
     "metadata": {},
     "output_type": "display_data"
    }
   ],
   "source": [
    "import matplotlib.pyplot as plt\n",
    "\n",
    "# global font\n",
    "#Font size, style Global\n",
    "plt.rcParams.update({\n",
    "    'font.family' : 'monospace'\n",
    "})\n",
    "\n",
    "# plot average scores by prompt style\n",
    "style_avg.plot(kind='bar', figsize=(10,6), color=['slateblue','navy','darkseagreen'])\n",
    "plt.title(\"Prompt Style Performance Across Key User Experience Metrics\", pad=20, fontsize=16)\n",
    "plt.xlabel(\"Prompt Style\", fontsize=14)\n",
    "plt.xticks(rotation=0, fontsize=12)\n",
    "plt.ylabel(\"Scores (0-5)\", fontsize=14)\n",
    "plt.yticks(fontsize=12)\n",
    "plt.tight_layout()\n",
    "\n",
    "plt.savefig('Average_scores_by_promptstyle')\n",
    "plt.show()"
   ]
  },
  {
   "cell_type": "code",
   "execution_count": 63,
   "id": "3c447450-16bb-4794-8b8c-8b667b4029fc",
   "metadata": {},
   "outputs": [
    {
     "name": "stdout",
     "output_type": "stream",
     "text": [
      "prompt_style\n",
      "Direct      4.00\n",
      "Formal      4.11\n",
      "Friendly    4.78\n",
      "Name: overall_score, dtype: float64\n"
     ]
    }
   ],
   "source": [
    "# Average overall score for each prompt style\n",
    "\n",
    "# calculate average per row\n",
    "df['overall_score']=df[score_cols].mean(axis=1)\n",
    "\n",
    "# group by style + calculate average overall score\n",
    "overall_avg = df.groupby('prompt_style')['overall_score'].mean().round(2)\n",
    "\n",
    "print(overall_avg)"
   ]
  },
  {
   "cell_type": "code",
   "execution_count": 75,
   "id": "cc427ffc-5188-4f19-ae3a-d69c9e3e5555",
   "metadata": {},
   "outputs": [
    {
     "data": {
      "image/png": "[encoded data removed]",
      "text/plain": [
       "<Figure size 1000x600 with 1 Axes>"
      ]
     },
     "metadata": {},
     "output_type": "display_data"
    }
   ],
   "source": [
    "# Comparison of overall score of each prompt style\n",
    "\n",
    "overall_avg.plot(kind='bar', figsize=(10,6), color=['darkred','rebeccapurple','goldenrod'])\n",
    "plt.title('Average Response Quality Across Prompt Styles', fontsize=16, pad=20)\n",
    "plt.xticks(rotation=0, fontsize=12)\n",
    "plt.xlabel('Prompt Style', fontsize=14)\n",
    "plt.yticks(fontsize=12)\n",
    "plt.ylabel('Average Score (0-5)', fontsize=14)\n",
    "plt.tight_layout()\n",
    "plt.savefig('Avg_score_for_each_promptstyle')\n",
    "plt.show()"
   ]
  },
  {
   "cell_type": "code",
   "execution_count": 79,
   "id": "76584380-c567-470d-a6ad-af36693b7d2e",
   "metadata": {},
   "outputs": [
    {
     "data": {
      "image/png": "[encoded data removed]",
      "text/plain": [
       "<Figure size 600x400 with 2 Axes>"
      ]
     },
     "metadata": {},
     "output_type": "display_data"
    }
   ],
   "source": [
    "# Correlations between scores\n",
    "\n",
    "import seaborn as sns\n",
    "\n",
    "# matrix\n",
    "corr = df[['clarity_score', 'accuracy_score', 'tone_score']].corr()\n",
    "\n",
    "plt.figure(figsize=(6,4))\n",
    "sns.heatmap(corr, annot=True, cmap='coolwarm', vmin=0, vmax=1)\n",
    "plt.title('Correlation Between Scoring Metrics', fontsize=14, pad=20)\n",
    "plt.tight_layout()\n",
    "plt.savefig('Correlation_bw_scores')\n",
    "plt.show()"
   ]
  },
  {
   "cell_type": "code",
   "execution_count": null,
   "id": "a78946f5-9385-45c6-99ca-d6b662525992",
   "metadata": {},
   "outputs": [],
   "source": []
  }
 ],
 "metadata": {
  "kernelspec": {
   "display_name": "Python 3 (ipykernel)",
   "language": "python",
   "name": "python3"
  },
  "language_info": {
   "codemirror_mode": {
    "name": "ipython",
    "version": 3
   },
   "file_extension": ".py",
   "mimetype": "text/x-python",
   "name": "python",
   "nbconvert_exporter": "python",
   "pygments_lexer": "ipython3",
   "version": "3.12.2"
  }
 },
 "nbformat": 4,
 "nbformat_minor": 5
}
